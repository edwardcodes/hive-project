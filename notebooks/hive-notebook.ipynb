{
 "cells": [
  {
   "cell_type": "code",
   "execution_count": 1,
   "id": "580dff56-1c6f-4737-a66b-ea423cefea66",
   "metadata": {},
   "outputs": [
    {
     "data": {
      "text/html": [
       "<table border=\"1\" class=\"dataframe\">\n",
       "  <thead>\n",
       "    <tr style=\"text-align: right;\">\n",
       "      <th>database_name</th>\n",
       "    </tr>\n",
       "  </thead>\n",
       "  <tbody>\n",
       "    <tr>\n",
       "      <td>default</td>\n",
       "    </tr>\n",
       "    <tr>\n",
       "      <td>har_land</td>\n",
       "    </tr>\n",
       "    <tr>\n",
       "      <td>har_stg</td>\n",
       "    </tr>\n",
       "  </tbody>\n",
       "</table>"
      ]
     },
     "metadata": {},
     "output_type": "display_data",
     "source": "kernel"
    }
   ],
   "source": [
    "show databases;"
   ]
  },
  {
   "cell_type": "code",
   "execution_count": 2,
   "id": "4c6a6c91-8530-4ce0-8aca-881cca3ec5f3",
   "metadata": {},
   "outputs": [
    {
     "data": {
      "text/html": [
       "<table border=\"1\" class=\"dataframe\">\n",
       "  <thead>\n",
       "    <tr style=\"text-align: right;\">\n",
       "      <th>tab_name</th>\n",
       "    </tr>\n",
       "  </thead>\n",
       "  <tbody>\n",
       "    <tr>\n",
       "      <td>har_landing</td>\n",
       "    </tr>\n",
       "  </tbody>\n",
       "</table>"
      ]
     },
     "metadata": {},
     "output_type": "display_data",
     "source": "kernel"
    }
   ],
   "source": [
    "show tables in har_land;"
   ]
  },
  {
   "cell_type": "code",
   "execution_count": 3,
   "id": "b4ea3a1d-b61b-4c00-b508-56dcf73fafc1",
   "metadata": {},
   "outputs": [
    {
     "data": {
      "text/html": [
       "<table border=\"1\" class=\"dataframe\">\n",
       "  <thead>\n",
       "    <tr style=\"text-align: right;\">\n",
       "      <th>timestamp_col</th>\n",
       "      <th>back_x</th>\n",
       "      <th>back_y</th>\n",
       "      <th>back_z</th>\n",
       "      <th>thigh_x</th>\n",
       "      <th>thigh_y</th>\n",
       "      <th>thigh_z</th>\n",
       "      <th>label</th>\n",
       "    </tr>\n",
       "  </thead>\n",
       "  <tbody>\n",
       "    <tr>\n",
       "      <td>2021-03-24 14:43:32.599</td>\n",
       "      <td>-1.041504</td>\n",
       "      <td>-0.083496</td>\n",
       "      <td>-0.181396</td>\n",
       "      <td>-0.986816</td>\n",
       "      <td>-0.218506</td>\n",
       "      <td>0.000000</td>\n",
       "      <td>1</td>\n",
       "    </tr>\n",
       "    <tr>\n",
       "      <td>2021-03-24 14:43:32.619</td>\n",
       "      <td>-1.012207</td>\n",
       "      <td>-0.071289</td>\n",
       "      <td>-0.186279</td>\n",
       "      <td>-0.968750</td>\n",
       "      <td>-0.192139</td>\n",
       "      <td>0.000000</td>\n",
       "      <td>1</td>\n",
       "    </tr>\n",
       "    <tr>\n",
       "      <td>2021-03-24 14:43:32.639</td>\n",
       "      <td>-0.989502</td>\n",
       "      <td>-0.045166</td>\n",
       "      <td>-0.193115</td>\n",
       "      <td>-0.984131</td>\n",
       "      <td>-0.144043</td>\n",
       "      <td>0.000977</td>\n",
       "      <td>1</td>\n",
       "    </tr>\n",
       "    <tr>\n",
       "      <td>2021-03-24 14:43:32.659</td>\n",
       "      <td>-0.977051</td>\n",
       "      <td>-0.007568</td>\n",
       "      <td>-0.225342</td>\n",
       "      <td>-0.968750</td>\n",
       "      <td>-0.094727</td>\n",
       "      <td>-0.029785</td>\n",
       "      <td>1</td>\n",
       "    </tr>\n",
       "    <tr>\n",
       "      <td>2021-03-24 14:43:32.680</td>\n",
       "      <td>-0.950439</td>\n",
       "      <td>0.001953</td>\n",
       "      <td>-0.238525</td>\n",
       "      <td>-0.984375</td>\n",
       "      <td>-0.077637</td>\n",
       "      <td>-0.078369</td>\n",
       "      <td>1</td>\n",
       "    </tr>\n",
       "  </tbody>\n",
       "</table>"
      ]
     },
     "metadata": {},
     "output_type": "display_data",
     "source": "kernel"
    }
   ],
   "source": [
    "select * from har_land.har_landing limit 5;"
   ]
  },
  {
   "cell_type": "code",
   "execution_count": 4,
   "id": "f36d4001-2950-4abd-aa39-419dfd9b65e3",
   "metadata": {},
   "outputs": [
    {
     "data": {
      "text/html": [
       "<table border=\"1\" class=\"dataframe\">\n",
       "  <thead>\n",
       "    <tr style=\"text-align: right;\">\n",
       "      <th>partition</th>\n",
       "    </tr>\n",
       "  </thead>\n",
       "  <tbody>\n",
       "    <tr>\n",
       "      <td>label=1</td>\n",
       "    </tr>\n",
       "    <tr>\n",
       "      <td>label=3</td>\n",
       "    </tr>\n",
       "    <tr>\n",
       "      <td>label=4</td>\n",
       "    </tr>\n",
       "    <tr>\n",
       "      <td>label=5</td>\n",
       "    </tr>\n",
       "    <tr>\n",
       "      <td>label=6</td>\n",
       "    </tr>\n",
       "    <tr>\n",
       "      <td>label=7</td>\n",
       "    </tr>\n",
       "    <tr>\n",
       "      <td>label=8</td>\n",
       "    </tr>\n",
       "  </tbody>\n",
       "</table>"
      ]
     },
     "metadata": {},
     "output_type": "display_data",
     "source": "kernel"
    }
   ],
   "source": [
    "show partitions har_land.har_landing;"
   ]
  },
  {
   "cell_type": "code",
   "execution_count": 5,
   "id": "711c1503-acd3-4754-a32e-ded93bdfe029",
   "metadata": {},
   "outputs": [
    {
     "data": {
      "text/html": [
       "<table border=\"1\" class=\"dataframe\">\n",
       "  <thead>\n",
       "    <tr style=\"text-align: right;\">\n",
       "      <th>_c0</th>\n",
       "    </tr>\n",
       "  </thead>\n",
       "  <tbody>\n",
       "    <tr>\n",
       "      <td>2259597</td>\n",
       "    </tr>\n",
       "  </tbody>\n",
       "</table>"
      ]
     },
     "metadata": {},
     "output_type": "display_data",
     "source": "kernel"
    }
   ],
   "source": [
    "select count(*) from har_land.har_landing;"
   ]
  },
  {
   "cell_type": "code",
   "execution_count": 6,
   "id": "7bd007e5-1c43-4f3f-885f-3fd29c78d3dd",
   "metadata": {},
   "outputs": [
    {
     "data": {
      "text/html": [
       "<table border=\"1\" class=\"dataframe\">\n",
       "  <thead>\n",
       "    <tr style=\"text-align: right;\">\n",
       "      <th>_c0</th>\n",
       "    </tr>\n",
       "  </thead>\n",
       "  <tbody>\n",
       "    <tr>\n",
       "      <td>2259597</td>\n",
       "    </tr>\n",
       "  </tbody>\n",
       "</table>"
      ]
     },
     "metadata": {},
     "output_type": "display_data",
     "source": "kernel"
    }
   ],
   "source": [
    "select count(*) from har_stg.har_staging;"
   ]
  },
  {
   "cell_type": "code",
   "execution_count": null,
   "id": "e26889da-3a0a-4313-be72-26b726b86467",
   "metadata": {},
   "outputs": [],
   "source": []
  }
 ],
 "metadata": {
  "kernelspec": {
   "display_name": "Hive",
   "language": "sql",
   "name": "hive"
  },
  "language_info": {
   "file_extension": ".sql",
   "mimetype": "text/x-sh",
   "name": "sql"
  }
 },
 "nbformat": 4,
 "nbformat_minor": 5
}
